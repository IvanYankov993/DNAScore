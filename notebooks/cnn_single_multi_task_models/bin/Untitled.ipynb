{
 "cells": [
  {
   "cell_type": "code",
   "execution_count": 1,
   "id": "db5be0ea-b23f-4308-877f-b00e393c85bd",
   "metadata": {},
   "outputs": [
    {
     "ename": "ModuleNotFoundError",
     "evalue": "No module named 'tensorflow_hub'",
     "output_type": "error",
     "traceback": [
      "\u001b[0;31m---------------------------------------------------------------------------\u001b[0m",
      "\u001b[0;31mModuleNotFoundError\u001b[0m                       Traceback (most recent call last)",
      "\u001b[0;32m/tmp/ipykernel_965652/4191395500.py\u001b[0m in \u001b[0;36m<module>\u001b[0;34m\u001b[0m\n\u001b[1;32m      1\u001b[0m \u001b[0;32mimport\u001b[0m \u001b[0mpandas\u001b[0m\u001b[0;34m\u001b[0m\u001b[0;34m\u001b[0m\u001b[0m\n\u001b[0;32m----> 2\u001b[0;31m \u001b[0;32mimport\u001b[0m \u001b[0mtensorflow_hub\u001b[0m \u001b[0;32mas\u001b[0m \u001b[0mhub\u001b[0m\u001b[0;34m\u001b[0m\u001b[0;34m\u001b[0m\u001b[0m\n\u001b[0m\u001b[1;32m      3\u001b[0m \u001b[0;32mfrom\u001b[0m \u001b[0msklearn\u001b[0m\u001b[0;34m.\u001b[0m\u001b[0mmanifold\u001b[0m \u001b[0;32mimport\u001b[0m \u001b[0mTSNE\u001b[0m\u001b[0;34m\u001b[0m\u001b[0;34m\u001b[0m\u001b[0m\n\u001b[1;32m      4\u001b[0m \u001b[0;32mimport\u001b[0m \u001b[0mumap\u001b[0m\u001b[0;34m\u001b[0m\u001b[0;34m\u001b[0m\u001b[0m\n\u001b[1;32m      5\u001b[0m \u001b[0mget_ipython\u001b[0m\u001b[0;34m(\u001b[0m\u001b[0;34m)\u001b[0m\u001b[0;34m.\u001b[0m\u001b[0mrun_line_magic\u001b[0m\u001b[0;34m(\u001b[0m\u001b[0;34m'matplotlib'\u001b[0m\u001b[0;34m,\u001b[0m \u001b[0;34m'inline # if executed from Jupyter Notebook'\u001b[0m\u001b[0;34m)\u001b[0m\u001b[0;34m\u001b[0m\u001b[0;34m\u001b[0m\u001b[0m\n",
      "\u001b[0;31mModuleNotFoundError\u001b[0m: No module named 'tensorflow_hub'"
     ]
    }
   ],
   "source": [
    "import pandas\n",
    "import tensorflow_hub as hub\n",
    "from sklearn.manifold import TSNE\n",
    "import umap\n",
    "%matplotlib inline # if executed from Jupyter Notebook\n",
    "\n",
    "# Loading Universal Sentence Encoder\n",
    "module_url = 'https://tfhub.dev/google/universal-sentence-encoder-large/5'\n",
    "embed = hub.load(module_url)\n",
    "\n",
    "# Loading source data\n",
    "df = pd.read_csv('amazon-fine-food-reviews.gz', \n",
    "                  nrows=100000, usecols=['Id', 'Score', 'Text'])\n",
    "\n",
    "embedded_text = embed(df['Text']).numpy()\n",
    "\n",
    "# Performing t-SNE embedding with the default settings\n",
    "sne_embedded = TSNE(n_components=2, \n",
    "                    n_jobs=8, verbose=1).fit_transform(embedding)\n",
    "emb_df = pd.DataFrame(sne_embedded)\n",
    "\n",
    "# Plotting the result\n",
    "emb_df.plot.scatter(x=0, y=1, c='DarkBlue', figsize=(50,50))\n",
    "\n",
    "# Performing UMAP embedding with the default settings\n",
    "reducer = umap.UMAP(metric='cosine', verbose=True)\n",
    "umap_embedding = reducer.fit_transform(emb_array)\n",
    "emb_df = pd.DataFrame(umap_embedding)\n",
    "\n",
    "# Plotting the result\n",
    "emb_df.plot.scatter(x=0, y=1, c='DarkBlue', figsize=(50,50))"
   ]
  },
  {
   "cell_type": "code",
   "execution_count": null,
   "id": "b2fb9f07-5925-4bea-99fe-3ec4b59755ef",
   "metadata": {},
   "outputs": [],
   "source": []
  }
 ],
 "metadata": {
  "kernelspec": {
   "display_name": "Python 3 (ipykernel)",
   "language": "python",
   "name": "python3"
  },
  "language_info": {
   "codemirror_mode": {
    "name": "ipython",
    "version": 3
   },
   "file_extension": ".py",
   "mimetype": "text/x-python",
   "name": "python",
   "nbconvert_exporter": "python",
   "pygments_lexer": "ipython3",
   "version": "3.9.7"
  }
 },
 "nbformat": 4,
 "nbformat_minor": 5
}
